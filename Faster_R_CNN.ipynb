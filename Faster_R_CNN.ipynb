{
  "nbformat": 4,
  "nbformat_minor": 0,
  "metadata": {
    "colab": {
      "provenance": [],
      "gpuType": "T4"
    },
    "kernelspec": {
      "name": "python3",
      "display_name": "Python 3"
    },
    "language_info": {
      "name": "python"
    },
    "accelerator": "GPU"
  },
  "cells": [
    {
      "cell_type": "code",
      "source": [
        "!nvcc --version"
      ],
      "metadata": {
        "id": "j_Mw2-HnQAKP",
        "colab": {
          "base_uri": "https://localhost:8080/"
        },
        "outputId": "a3404fb2-7a3c-4e16-8bcd-a5c5800a04a7"
      },
      "execution_count": 1,
      "outputs": [
        {
          "output_type": "stream",
          "name": "stdout",
          "text": [
            "nvcc: NVIDIA (R) Cuda compiler driver\n",
            "Copyright (c) 2005-2023 NVIDIA Corporation\n",
            "Built on Tue_Aug_15_22:02:13_PDT_2023\n",
            "Cuda compilation tools, release 12.2, V12.2.140\n",
            "Build cuda_12.2.r12.2/compiler.33191640_0\n"
          ]
        }
      ]
    },
    {
      "cell_type": "code",
      "source": [
        "!pip install matplotlib"
      ],
      "metadata": {
        "id": "q8PCMEttQBi_"
      },
      "execution_count": null,
      "outputs": []
    },
    {
      "cell_type": "markdown",
      "source": [
        "**Завантажуємо з пристрою файли які необхідні**"
      ],
      "metadata": {
        "id": "U4Pt1umBCi1Z"
      }
    },
    {
      "cell_type": "code",
      "source": [
        "from google.colab import files\n",
        "uploaded = files.upload()"
      ],
      "metadata": {
        "id": "KyXcaenIQC5H"
      },
      "execution_count": null,
      "outputs": []
    },
    {
      "cell_type": "markdown",
      "source": [
        "**Імпортуємо необхідні бібліотеки**"
      ],
      "metadata": {
        "id": "tTHuk5fVCZli"
      }
    },
    {
      "cell_type": "code",
      "source": [
        "import augmentation, dataset, main, torch\n",
        "import matplotlib.pyplot as plt\n",
        "\n",
        "from matplotlib.patches import Rectangle\n",
        "\n",
        "# Ignore Warning\n",
        "import warnings\n",
        "warnings.filterwarnings('ignore')"
      ],
      "metadata": {
        "id": "pTEdR9DVvLut"
      },
      "execution_count": null,
      "outputs": []
    },
    {
      "cell_type": "markdown",
      "source": [
        "**Конфігурація**"
      ],
      "metadata": {
        "id": "6otvYH2kCu1k"
      }
    },
    {
      "cell_type": "code",
      "source": [
        "imagenet_mean, imagenet_std = [0.485, 0.456, 0.406], [0.229, 0.224, 0.225]\n",
        "min_size, max_size = 600, 1000\n",
        "\n",
        "RPN_config = {'anchor_scale' : (128, 256, 512), 'anchor_aspect_ratio' : (0.5, 1.0, 2.0), 'downsample' : 16,\n",
        "              'in_channels' : 512, 'num_anchors' : 9,\n",
        "              'bbox_reg_weights' : (1., 1., 1., 1.),\n",
        "              'iou_positive_thresh' : 0.7, 'iou_negative_high' : 0.3, 'iou_negative_low' : 0,\n",
        "              'batch_size_per_image' : 256, 'positive_fraction' : 0.5,\n",
        "              'min_size' : 16, 'nms_thresh' : 0.7,\n",
        "              'top_n_train' : 2000, 'top_n_test' : 300}\n",
        "\n",
        "FastRCNN_config = {'output_size' : 7, 'downsample' : 16,\n",
        "                   'out_channels' : 4096, 'num_classes' : 21,\n",
        "                   'bbox_reg_weights' : (10., 10., 5., 5.),\n",
        "                   'iou_positive_thresh' : 0.5, 'iou_negative_high' : 0.5, 'iou_negative_low' : 0.1,\n",
        "                   'batch_size_per_image' : 128, 'positive_fraction' : 0.25,\n",
        "                   'min_size' : 1, 'nms_thresh' : 0.3,\n",
        "                   'score_thresh' : 0.05, 'top_n' : 50}\n",
        "\n",
        "TRAIN_config = {'epochs' : 3,\n",
        "                'lr' : 0.001, 'momentum' : 0.9, 'weight_decay' : 0.0005,\n",
        "                'milestones' : [10], 'clip' : 10,\n",
        "                'epoch_freq' : 1, 'print_freq' : 1,\n",
        "                'save' : True, 'SAVE_PATH' : './'}\n",
        "\n",
        "TEST_config = {'num_classes' : 21, 'iou_thresh' : 0.5, 'use_07_metric' : True}\n",
        "\n",
        "DEMO_config = {'min_size' : min_size, 'mean' : imagenet_mean, 'std' : imagenet_std, 'score_thresh' : 0.7}\n",
        "\n",
        "gpu_id = 0"
      ],
      "metadata": {
        "id": "dkUK7pjRvOey"
      },
      "execution_count": null,
      "outputs": []
    },
    {
      "cell_type": "markdown",
      "source": [
        "**Попередня обробка даних**"
      ],
      "metadata": {
        "id": "W8hQJ5BEC1pH"
      }
    },
    {
      "cell_type": "code",
      "source": [
        "from google.colab import drive\n",
        "drive.mount('/content/drive')"
      ],
      "metadata": {
        "id": "kY9jLYIRQFH_"
      },
      "execution_count": null,
      "outputs": []
    },
    {
      "cell_type": "code",
      "source": [
        "batch_size = 1\n",
        "\n",
        "data_dir = '/content/drive/MyDrive'"
      ],
      "metadata": {
        "id": "iYaAcFW3vVKT"
      },
      "execution_count": null,
      "outputs": []
    },
    {
      "cell_type": "code",
      "source": [
        "train_transform = augmentation.Compose([\n",
        "    augmentation.Resize(min_size, max_size),\n",
        "    augmentation.Flip(), augmentation.ToTensor(),\n",
        "    augmentation.Normalize(mean=imagenet_mean, std=imagenet_std)\n",
        "])\n",
        "test_transform = augmentation.Compose([\n",
        "    augmentation.Resize(min_size, max_size), augmentation.ToTensor(),\n",
        "    augmentation.Normalize(mean=imagenet_mean, std=imagenet_std)\n",
        "])\n",
        "\n",
        "train_dataset = dataset.VOC_Detection(\n",
        "    root=data_dir, year='2007', image_set='trainval',\n",
        "    download=True, transforms=train_transform, use_diff=False\n",
        ")\n",
        "test_dataset = dataset.VOC_Detection(\n",
        "    root=data_dir, year='2007', image_set='test',\n",
        "    download=True, transforms=test_transform, use_diff=False\n",
        ")\n",
        "\n",
        "train_loader = torch.utils.data.DataLoader(train_dataset, batch_size=batch_size, shuffle=True, num_workers=8)\n",
        "test_loader = torch.utils.data.DataLoader(test_dataset, batch_size=1, shuffle=False, num_workers=8)"
      ],
      "metadata": {
        "id": "iQSAbiEVQHdn"
      },
      "execution_count": null,
      "outputs": []
    },
    {
      "cell_type": "markdown",
      "source": [
        "**Тренування моделі**"
      ],
      "metadata": {
        "id": "SyTins2sC6Ud"
      }
    },
    {
      "cell_type": "code",
      "source": [
        "FasterRCNN = main.FasterRCNN(RPN_config, FastRCNN_config, TRAIN_config, TEST_config, DEMO_config, gpu_id)"
      ],
      "metadata": {
        "id": "1Ud2expdva0g"
      },
      "execution_count": null,
      "outputs": []
    },
    {
      "cell_type": "code",
      "source": [
        "FasterRCNN.train(train_loader, test_loader)"
      ],
      "metadata": {
        "id": "KLQJA0JnQI9n"
      },
      "execution_count": null,
      "outputs": []
    },
    {
      "cell_type": "markdown",
      "source": [
        "**Результат**"
      ],
      "metadata": {
        "id": "h5xfob3sDIwu"
      }
    },
    {
      "cell_type": "code",
      "source": [
        "FasterRCNN = main.FasterRCNN(RPN_config, FastRCNN_config, TRAIN_config, TEST_config, DEMO_config, gpu_id)\n",
        "FasterRCNN.model.load_state_dict(torch.load('./epoch_013.pt'))"
      ],
      "metadata": {
        "id": "9VJsmIlbP1cB"
      },
      "execution_count": null,
      "outputs": []
    },
    {
      "cell_type": "code",
      "source": [
        "VOC_LABELS = ('__background__',\n",
        "              'aeroplane', 'bicycle', 'bird', 'boat', 'bottle', 'bus', 'car', 'cat', 'chair', 'cow', 'diningtable', 'dog',\n",
        "              'horse','motorbike', 'person', 'pottedplant', 'sheep', 'sofa', 'train', 'tvmonitor')\n",
        "\n",
        "demo_img = './sample.png'\n",
        "\n",
        "img, pred_labels, pred_scores, pred_detections = FasterRCNN.demo(demo_img)"
      ],
      "metadata": {
        "id": "R5EwBWffP6SY"
      },
      "execution_count": null,
      "outputs": []
    },
    {
      "cell_type": "code",
      "source": [
        "plt.figure(figsize=(20, 20))\n",
        "plt.rcParams['axes.titlesize'] = 20\n",
        "plt.axis('off')\n",
        "\n",
        "for i in range(min(6, pred_labels.shape[0])):\n",
        "    plt.subplot(3, 2, i+1)\n",
        "    pred_label, pred_score, pred_detection = pred_labels[i], pred_scores[i], pred_detections[i]\n",
        "    image = plt.imshow(img); image.axes.get_xaxis().set_visible(False); image.axes.get_yaxis().set_visible(False)\n",
        "\n",
        "    plt.gca().set_title(VOC_LABELS[int(pred_label)] + ' ' + str(round(100 * pred_score, 2)) + '%')\n",
        "    min_x, min_y, max_x, max_y = pred_detection\n",
        "    plt.gca().add_patch(Rectangle((min_x, min_y), max_x-min_x, max_y-min_y, edgecolor='r', facecolor='none'))"
      ],
      "metadata": {
        "id": "4e9Zs9w4P95g"
      },
      "execution_count": null,
      "outputs": []
    }
  ]
}